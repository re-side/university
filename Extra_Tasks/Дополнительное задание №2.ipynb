{
  "nbformat": 4,
  "nbformat_minor": 0,
  "metadata": {
    "colab": {
      "provenance": [],
      "authorship_tag": "ABX9TyMKpSeGkEpuUdU/qizOUuBW",
      "include_colab_link": true
    },
    "kernelspec": {
      "name": "python3",
      "display_name": "Python 3"
    },
    "language_info": {
      "name": "python"
    }
  },
  "cells": [
    {
      "cell_type": "markdown",
      "metadata": {
        "id": "view-in-github",
        "colab_type": "text"
      },
      "source": [
        "<a href=\"https://colab.research.google.com/github/re-side/university/blob/main/Extra_Tasks/%D0%94%D0%BE%D0%BF%D0%BE%D0%BB%D0%BD%D0%B8%D1%82%D0%B5%D0%BB%D1%8C%D0%BD%D0%BE%D0%B5%20%D0%B7%D0%B0%D0%B4%D0%B0%D0%BD%D0%B8%D0%B5%20%E2%84%962.ipynb\" target=\"_parent\"><img src=\"https://colab.research.google.com/assets/colab-badge.svg\" alt=\"Open In Colab\"/></a>"
      ]
    },
    {
      "cell_type": "code",
      "execution_count": 9,
      "metadata": {
        "id": "lRvIRhIg8DOp",
        "outputId": "c04863b1-0a11-40a4-84f9-bb3a36de791d",
        "colab": {
          "base_uri": "https://localhost:8080/"
        }
      },
      "outputs": [
        {
          "output_type": "stream",
          "name": "stdout",
          "text": [
            "Выберите функцию:\n",
            "1. Добавить контакт\n",
            "2. Удалить контакт\n",
            "3. Показать список контактов\n",
            "4. Изменить номер\n",
            "5. Выход\n",
            "Введите номер функции: 1\n",
            "Введите название для контакта: лена иванова\n",
            "Введите номер телефона: 9067639872\n",
            "Контакт успешно добавлен!\n",
            "Выберите функцию:\n",
            "1. Добавить контакт\n",
            "2. Удалить контакт\n",
            "3. Показать список контактов\n",
            "4. Изменить номер\n",
            "5. Выход\n",
            "Введите номер функции: 3\n",
            "Список контактов:\n",
            "Лена Иванова: +79067639872\n",
            "Выберите функцию:\n",
            "1. Добавить контакт\n",
            "2. Удалить контакт\n",
            "3. Показать список контактов\n",
            "4. Изменить номер\n",
            "5. Выход\n",
            "Введите номер функции: 4\n",
            "Введите имя контакта: Лена Иванова\n",
            "Введите новый номер телефона: 89097853422\n",
            "Номер успешно изменён!\n",
            "Выберите функцию:\n",
            "1. Добавить контакт\n",
            "2. Удалить контакт\n",
            "3. Показать список контактов\n",
            "4. Изменить номер\n",
            "5. Выход\n",
            "Введите номер функции: 3\n",
            "Список контактов:\n",
            "Лена Иванова: +79097853422\n",
            "Выберите функцию:\n",
            "1. Добавить контакт\n",
            "2. Удалить контакт\n",
            "3. Показать список контактов\n",
            "4. Изменить номер\n",
            "5. Выход\n",
            "Введите номер функции: 5\n",
            "Выход из программы.\n"
          ]
        }
      ],
      "source": [
        "def standardizenumber(number: str) -> str:\n",
        "  number = number.replace(\" \", \"\").replace(\"-\", \"\")\n",
        "  if number.startswith('8'):\n",
        "    number = \"+7\" + number[1:]\n",
        "  elif not number.startswith('+'):\n",
        "    number = \"+7\" + number\n",
        "  return number\n",
        "\n",
        "def standardizename(name: str) -> str:\n",
        "  return \" \".join(word.capitalize() for word in name.split())\n",
        "\n",
        "phonebook = {}\n",
        "\n",
        "def addcontact() -> None:\n",
        "  name = standardizename(input(\"Введите название для контакта: \"))\n",
        "  number = standardizenumber(input(\"Введите номер телефона: \"))\n",
        "  phonebook[name] = number\n",
        "  print(\"Контакт успешно добавлен!\")\n",
        "\n",
        "def deletecontact() -> None:\n",
        "  name = standardizename(input(\"Введите имя контакта: \"))\n",
        "  if name in phonebook:\n",
        "    del phonebook[name]\n",
        "    print(\"Контакт успешно удалён!\")\n",
        "  else:\n",
        "    print(\"Контакт не найден!\")\n",
        "\n",
        "def showcontacts() -> None:\n",
        "  if phonebook:\n",
        "    print(\"Список контактов:\")\n",
        "    for name, number in phonebook.items():\n",
        "      print(name + \":\", number)\n",
        "  else:\n",
        "    print(\"Телефонная книга пуста.\")\n",
        "\n",
        "def changenumber() -> None:\n",
        "  name = standardizename(input(\"Введите имя контакта: \"))\n",
        "  if name in phonebook:\n",
        "    newnumber = standardizenumber(input(\"Введите новый номер телефона: \"))\n",
        "    phonebook[name] = newnumber\n",
        "    print(\"Номер успешно изменён!\")\n",
        "  else:\n",
        "    print(\"Контакт не найден!\")\n",
        "\n",
        "def mainmenu() -> None:\n",
        "  while True:\n",
        "    print(\"Выберите функцию:\")\n",
        "    print(\"1. Добавить контакт\")\n",
        "    print(\"2. Удалить контакт\")\n",
        "    print(\"3. Показать список контактов\")\n",
        "    print(\"4. Изменить номер\")\n",
        "    print(\"5. Выход\")\n",
        "    choice = input(\"Введите номер функции: \")\n",
        "    if choice == \"1\":\n",
        "      addcontact()\n",
        "    elif choice == \"2\":\n",
        "      deletecontact()\n",
        "    elif choice == \"3\":\n",
        "      showcontacts()\n",
        "    elif choice == \"4\":\n",
        "      changenumber()\n",
        "    elif choice == \"5\":\n",
        "      print(\"Выход из программы.\")\n",
        "      break\n",
        "    else:\n",
        "      print(\"Такого варианта нет.\")\n",
        "\n",
        "mainmenu()"
      ]
    }
  ]
}