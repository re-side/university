{
  "nbformat": 4,
  "nbformat_minor": 0,
  "metadata": {
    "colab": {
      "provenance": [],
      "authorship_tag": "ABX9TyPjM+w+uaiS33dZT8gSiJlg",
      "include_colab_link": true
    },
    "kernelspec": {
      "name": "python3",
      "display_name": "Python 3"
    },
    "language_info": {
      "name": "python"
    }
  },
  "cells": [
    {
      "cell_type": "markdown",
      "metadata": {
        "id": "view-in-github",
        "colab_type": "text"
      },
      "source": [
        "<a href=\"https://colab.research.google.com/github/re-side/university/blob/main/Extra_Tasks/%D0%94%D0%BE%D0%BF%D0%BE%D0%BB%D0%BD%D0%B8%D1%82%D0%B5%D0%BB%D1%8C%D0%BD%D0%BE%D0%B5%20%D0%B7%D0%B0%D0%B4%D0%B0%D0%BD%D0%B8%D0%B5%20%E2%84%962.ipynb\" target=\"_parent\"><img src=\"https://colab.research.google.com/assets/colab-badge.svg\" alt=\"Open In Colab\"/></a>"
      ]
    },
    {
      "cell_type": "code",
      "execution_count": 4,
      "metadata": {
        "id": "lRvIRhIg8DOp",
        "outputId": "e04730e9-7080-46ec-e745-742c5351ad99",
        "colab": {
          "base_uri": "https://localhost:8080/",
          "height": 106
        }
      },
      "outputs": [
        {
          "output_type": "error",
          "ename": "SyntaxError",
          "evalue": "invalid syntax. Maybe you meant '==' or ':=' instead of '='? (<ipython-input-4-415af95f65d9>, line 36)",
          "traceback": [
            "\u001b[0;36m  File \u001b[0;32m\"<ipython-input-4-415af95f65d9>\"\u001b[0;36m, line \u001b[0;32m36\u001b[0m\n\u001b[0;31m    if name = input() #Форматируем имя\u001b[0m\n\u001b[0m       ^\u001b[0m\n\u001b[0;31mSyntaxError\u001b[0m\u001b[0;31m:\u001b[0m invalid syntax. Maybe you meant '==' or ':=' instead of '='?\n"
          ]
        }
      ],
      "source": [
        "print('Выберите функцию:')\n",
        "print('1. Добавить контакт')\n",
        "print('2. Удалить контакт')\n",
        "print('3. Показать список контактов')\n",
        "print('4. Изменить номер')\n",
        "print('5. Выход')\n",
        "\n",
        "start = int(input(\"Введите номер функции: \"))\n",
        "\n",
        "if start > 5 or start <= 0: #Проверка выбранной функции\n",
        "  print('Такой функции нет!')\n",
        "\n",
        "contlist = []\n",
        "\n",
        "if start == 1: #Если пользователь выбрал функцию 1\n",
        "  name = input('Введите название для контакта: ')\n",
        "  numb = int(input('Введите номер телефона: '))\n",
        "  if 'name' and 'numb' in locals():\n",
        "    print('Контакт успешно добавлен!')\n",
        "  else:\n",
        "    print('Error')\n",
        "\n",
        "def standardize_phone_number(raw_number): #Стандартизируем номер\n",
        "  digits_only = ''.join(filter(str.isdigit, raw_number))\n",
        "  if len(digits_only) == 11:\n",
        "    if digits_only.startswith('8'):\n",
        "      digits_only = '7' + digits_only[1:]\n",
        "    standardized_number = '+' + digits_only\n",
        "    return standardized_number\n",
        "  else:\n",
        "    raise ValueError(\"Номер телефона должен содержать 11 цифр.\")\n",
        "raw_number = numb\n",
        "formatted_number = standardize_phone_number(raw_number)\n",
        "print(formatted_number)\n",
        "\n",
        "resname = name #Форматируем имя\n",
        "formattedus = resname.lower().capitalize()\n",
        "\n",
        "username = name\n",
        "\n",
        "# Преобразуем имя пользователя, каждое слово с заглавной буквы\n",
        "formatted_username = username.title()\n",
        "\n",
        "# Выводим приветствие с отформатированным именем\n",
        "print(f\"Добро пожаловать, {formatted_username}!\")\n",
        "\n",
        "cont = name + ' '\n",
        "if start == 2:\n",
        "  print('Нехочу')\n",
        "if start == 3:\n",
        "  print('kl')"
      ]
    }
  ]
}