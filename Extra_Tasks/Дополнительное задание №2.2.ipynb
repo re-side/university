{
  "nbformat": 4,
  "nbformat_minor": 0,
  "metadata": {
    "colab": {
      "provenance": [],
      "include_colab_link": true
    },
    "kernelspec": {
      "name": "python3",
      "display_name": "Python 3"
    },
    "language_info": {
      "name": "python"
    }
  },
  "cells": [
    {
      "cell_type": "markdown",
      "metadata": {
        "id": "view-in-github",
        "colab_type": "text"
      },
      "source": [
        "<a href=\"https://colab.research.google.com/github/re-side/university/blob/main/Extra_Tasks/%D0%94%D0%BE%D0%BF%D0%BE%D0%BB%D0%BD%D0%B8%D1%82%D0%B5%D0%BB%D1%8C%D0%BD%D0%BE%D0%B5%20%D0%B7%D0%B0%D0%B4%D0%B0%D0%BD%D0%B8%D0%B5%20%E2%84%962.2.ipynb\" target=\"_parent\"><img src=\"https://colab.research.google.com/assets/colab-badge.svg\" alt=\"Open In Colab\"/></a>"
      ]
    },
    {
      "cell_type": "markdown",
      "source": [
        "# **Дополнительное задание №2.2. Замыкания. Декораторы. Итераторы. Генераторы**"
      ],
      "metadata": {
        "id": "AFKOdzjAKWYc"
      }
    },
    {
      "cell_type": "markdown",
      "source": [
        "**БАЗА:**\n",
        "\n",
        "- **Замыкания** позволяют создавать функции с сохраняющимся состоянием. Это полезно для создания фабричных функций и функций с настраиваемым поведением.\n",
        "- **Декораторы** позволяют модифицировать или расширять поведение функций без изменения их исходного кода."
      ],
      "metadata": {
        "id": "nBwTqfsSyaGg"
      }
    },
    {
      "cell_type": "markdown",
      "source": [
        "---"
      ],
      "metadata": {
        "id": "2VnR8e3twGfD"
      }
    },
    {
      "cell_type": "markdown",
      "source": [
        "## **I. Замыкания и декораторы**"
      ],
      "metadata": {
        "id": "_ZPLUks08b1-"
      }
    },
    {
      "cell_type": "markdown",
      "metadata": {
        "id": "eVsLMeozyshu"
      },
      "source": [
        "### **Пункт №1**\n",
        "\n",
        "Напишите две функции создания списка из чётных чисел от 0 до N (N – аргумент функции): \\([0, 2, 4, ..., N]\\).\n",
        "\n",
        "- **Первая функция** должна использовать метод `append` для добавления элементов в список.\n",
        "- **Вторая функция** должна использовать **генератор списков** (list comprehensions) для создания списка.\n",
        "\n",
        "После этого, через **декоратор**, определите время работы этих функций."
      ]
    },
    {
      "cell_type": "code",
      "source": [
        "import time\n",
        "def timer(func):\n",
        "    def wrapper(N):\n",
        "        start=time.time()\n",
        "        func(N)\n",
        "        end=time.time()\n",
        "        print(end-start)\n",
        "    return wrapper\n",
        "@timer\n",
        "def generate_even_append(N):\n",
        "    even_numbers=[]\n",
        "    for i in range(0,N+1):\n",
        "        if i%2==0:\n",
        "            even_numbers.append(i)\n",
        "@timer\n",
        "def generate_even_comprehension(N):\n",
        "    [i for i in range(0,N+1)if i%2==0]\n",
        "N=100000\n",
        "generate_even_append(N)\n",
        "generate_even_comprehension(N)"
      ],
      "metadata": {
        "id": "04AwDHUyZe6F",
        "outputId": "8ad27141-f4fa-4aa9-afbb-0b20626dc455",
        "colab": {
          "base_uri": "https://localhost:8080/"
        }
      },
      "execution_count": 1,
      "outputs": [
        {
          "output_type": "stream",
          "name": "stdout",
          "text": [
            "0.010431051254272461\n",
            "0.008747577667236328\n"
          ]
        }
      ]
    },
    {
      "cell_type": "markdown",
      "source": [
        "---"
      ],
      "metadata": {
        "id": "_0Jy4QhEwGDd"
      }
    },
    {
      "cell_type": "markdown",
      "source": [
        "### **Пункт №2**\n",
        "\n",
        "Напишите **декоратор** для кэширования результатов работы функции, вычисляющей значение n-го числа [**ряда Фибоначчи**](https://ru.wikipedia.org/wiki/Числа_Фибоначчи).\n",
        "\n",
        "То есть, при повторном вызове функции через декоратор уже имеющийся результат должен браться из кэша, а не вычисляться заново.\n",
        "\n",
        "**Например:**\n",
        "\n",
        "- При значении параметра `n = 5`, должна кэшироваться последовательность \\([0, 1, 1, 2, 3, 5]\\).\n",
        "- Вызывая после этого целевую функцию через декоратор ещё раз с `n = 3`, результат \\([0, 1, 1, 2]\\) должен браться из кэша.\n",
        "- Если последующее значение `n` больше предыдущего, например `n = 10`, вычисление должно продолжаться, начиная с закэшированной последовательности.\n",
        "\n",
        "*Подсказка: используйте **замыкание** для хранения кэша внутри декоратора.*\n"
      ],
      "metadata": {
        "id": "DfDtOSmDl7ic"
      }
    },
    {
      "cell_type": "code",
      "source": [
        "def fib(n: int) -> int:\n",
        "    if n in [1, 2]:\n",
        "      return 1\n",
        "    return fib(n - 1) + fib(n - 2)\n",
        "\n",
        "def index_from_fib(value: int) -> int:\n",
        "  position = 0\n",
        "  while fib(position) != value:\n",
        "    position += 1\n",
        "  return position\n",
        "\n",
        "\n",
        "def cache(func):\n",
        "  cache = [0, 1]\n",
        "\n",
        "  def inner(n: int):\n",
        "\n",
        "    if n < len(cache): return cache[:n + 1]\n",
        "    for index in range(len(cache), n + 1):\n",
        "      cache.append(cache[index - 1] + cache[index - 2])\n",
        "    return cache\n",
        "  return inner\n",
        "\n",
        "@cache\n",
        "def testion_fib(n: int) -> int:\n",
        "  pass\n",
        "\n",
        "\n",
        "print(testion_fib(10))"
      ],
      "metadata": {
        "id": "CtbbsIBsZfHB",
        "outputId": "b4332688-6e17-4353-f6bb-d1eec6de1236",
        "colab": {
          "base_uri": "https://localhost:8080/"
        }
      },
      "execution_count": 2,
      "outputs": [
        {
          "output_type": "stream",
          "name": "stdout",
          "text": [
            "[0, 1, 1, 2, 3, 5, 8, 13, 21, 34, 55]\n"
          ]
        }
      ]
    },
    {
      "cell_type": "markdown",
      "source": [
        "---"
      ],
      "metadata": {
        "id": "CIiq8lr7wFkS"
      }
    },
    {
      "cell_type": "markdown",
      "source": [
        "### **Пункт №3**\n",
        "\n",
        "Примените к функции из задания №2 сразу **два декоратора**:\n",
        "\n",
        "1. **Декоратор**, определяющий время выполнения функции.\n",
        "2. **Кэширующий декоратор** (из задания №2).\n",
        "\n",
        "Сравните время работы функции с использованием кэширования и без него.\n"
      ],
      "metadata": {
        "id": "zY5zVHuifDve"
      }
    },
    {
      "cell_type": "code",
      "source": [],
      "metadata": {
        "id": "dXuu8LJgg-0r",
        "outputId": "5b96b353-042a-4c66-fb8e-1c25c8820265",
        "colab": {
          "base_uri": "https://localhost:8080/",
          "height": 218
        }
      },
      "execution_count": 4,
      "outputs": [
        {
          "output_type": "error",
          "ename": "NameError",
          "evalue": "name 'get_time' is not defined",
          "traceback": [
            "\u001b[0;31m---------------------------------------------------------------------------\u001b[0m",
            "\u001b[0;31mNameError\u001b[0m                                 Traceback (most recent call last)",
            "\u001b[0;32m<ipython-input-4-68c995e55c96>\u001b[0m in \u001b[0;36m<cell line: 5>\u001b[0;34m()\u001b[0m\n\u001b[1;32m      3\u001b[0m   \u001b[0;32mpass\u001b[0m\u001b[0;34m\u001b[0m\u001b[0;34m\u001b[0m\u001b[0m\n\u001b[1;32m      4\u001b[0m \u001b[0;34m\u001b[0m\u001b[0m\n\u001b[0;32m----> 5\u001b[0;31m \u001b[0;34m@\u001b[0m\u001b[0mget_time\u001b[0m\u001b[0;34m\u001b[0m\u001b[0;34m\u001b[0m\u001b[0m\n\u001b[0m\u001b[1;32m      6\u001b[0m \u001b[0;32mdef\u001b[0m \u001b[0mfib\u001b[0m\u001b[0;34m(\u001b[0m\u001b[0mn\u001b[0m\u001b[0;34m:\u001b[0m \u001b[0mint\u001b[0m\u001b[0;34m)\u001b[0m \u001b[0;34m->\u001b[0m \u001b[0mint\u001b[0m\u001b[0;34m:\u001b[0m\u001b[0;34m\u001b[0m\u001b[0;34m\u001b[0m\u001b[0m\n\u001b[1;32m      7\u001b[0m     \u001b[0;32mif\u001b[0m \u001b[0mn\u001b[0m \u001b[0;32min\u001b[0m \u001b[0;34m[\u001b[0m\u001b[0;36m1\u001b[0m\u001b[0;34m,\u001b[0m \u001b[0;36m2\u001b[0m\u001b[0;34m]\u001b[0m\u001b[0;34m:\u001b[0m\u001b[0;34m\u001b[0m\u001b[0;34m\u001b[0m\u001b[0m\n",
            "\u001b[0;31mNameError\u001b[0m: name 'get_time' is not defined"
          ]
        }
      ]
    },
    {
      "cell_type": "markdown",
      "source": [
        "---"
      ],
      "metadata": {
        "id": "fsSegPodwEwZ"
      }
    },
    {
      "cell_type": "markdown",
      "source": [
        "### **Пункт №4**\n",
        "\n",
        "Создайте функцию **make_multiplier(n)**, которая принимает число **n** и возвращает функцию, умножающую переданное ей число на **n**.\n",
        "\n",
        "**Пример использования:**\n",
        "\n",
        "```python\n",
        "def make_multiplier(n):\n",
        "    # Ваш код\n",
        "\n",
        "times3 = make_multiplier(3)\n",
        "print(times3(5))  # Вывод: 15\n",
        "```"
      ],
      "metadata": {
        "id": "Ap04UA6ZtoK1"
      }
    },
    {
      "cell_type": "code",
      "source": [
        "# Ваш код"
      ],
      "metadata": {
        "id": "HasdSjestowl"
      },
      "execution_count": null,
      "outputs": []
    },
    {
      "cell_type": "markdown",
      "source": [
        "---"
      ],
      "metadata": {
        "id": "MIPkER_LwD_0"
      }
    },
    {
      "cell_type": "markdown",
      "source": [
        "### **Пункт №5**\n",
        "\n",
        "Реализуйте функцию с замыканием, которая настраивает округление чисел до заданного количества знаков после запятой.\n",
        "\n",
        "**Пример:**\n",
        "\n",
        "```python\n",
        "def rounder(n):\n",
        "    # Ваш код\n",
        "\n",
        "round_to_2 = rounder(2)\n",
        "print(round_to_2(3.14159))  # Вывод: 3.14\n",
        "```\n"
      ],
      "metadata": {
        "id": "mTwh5dIqto8N"
      }
    },
    {
      "cell_type": "code",
      "source": [
        "# Ваш код"
      ],
      "metadata": {
        "id": "zjlE-viztpDo"
      },
      "execution_count": null,
      "outputs": []
    },
    {
      "cell_type": "markdown",
      "source": [
        "---"
      ],
      "metadata": {
        "id": "6u2MeXBiwAyf"
      }
    },
    {
      "cell_type": "markdown",
      "source": [
        "### **Пункт №6**\n",
        "\n",
        "Напишите **декоратор**, который измеряет время исполнения функции и выводит его на экран, только если время превышает определённый порог.\n",
        "\n",
        "**Пример:**\n",
        "\n",
        "```python\n",
        "@time_threshold(threshold=0.5)\n",
        "def long_running_function():\n",
        "    # Долгий код\n",
        "\n",
        "long_running_function()\n",
        "# Выводится время выполнения только если оно больше 0.5 секунд\n",
        "```"
      ],
      "metadata": {
        "id": "i5A4zQl5tpKJ"
      }
    },
    {
      "cell_type": "code",
      "source": [
        "# Ваш код"
      ],
      "metadata": {
        "id": "LMGleXaetpP6"
      },
      "execution_count": null,
      "outputs": []
    },
    {
      "cell_type": "markdown",
      "source": [
        "---"
      ],
      "metadata": {
        "id": "Ag0rUJm-wIK1"
      }
    },
    {
      "cell_type": "markdown",
      "source": [
        "## **II. Итераторы и генераторы**"
      ],
      "metadata": {
        "id": "tu5ZanR_8j_R"
      }
    },
    {
      "cell_type": "markdown",
      "source": [
        "---\n",
        "\n",
        "### **Пункт №1. Генератор строк фиксированной длины**\n",
        "\n",
        "Напишите генератор `string_generator(char, times)`, который генерирует строки, состоящие из символа `char`, повторенного от 1 до `times` раз.\n",
        "\n",
        "```python\n",
        "# Пример использования:\n",
        "for s in string_generator('*', 5):\n",
        "    print(s)\n",
        "# Вывод:\n",
        "# *\n",
        "# **\n",
        "# ***\n",
        "# ****\n",
        "# *****\n",
        "```\n",
        "\n"
      ],
      "metadata": {
        "id": "7KQ8huR-8C_4"
      }
    },
    {
      "cell_type": "markdown",
      "source": [
        "---"
      ],
      "metadata": {
        "id": "ktfqCVPY-Mlx"
      }
    },
    {
      "cell_type": "code",
      "source": [
        "# Ваш код"
      ],
      "metadata": {
        "id": "uvI-Ebqu98bW"
      },
      "execution_count": null,
      "outputs": []
    },
    {
      "cell_type": "markdown",
      "source": [
        "---\n",
        "\n",
        "### **Пункт №2. Генератор бесконечной последовательности**\n",
        "\n",
        "Создайте бесконечный генератор `infinite_sequence()`, который с каждым вызовом возвращает следующее число, начиная с 1.\n",
        "\n",
        "```python\n",
        "# Пример использования:\n",
        "gen = infinite_sequence()\n",
        "for _ in range(5):\n",
        "    print(next(gen))\n",
        "# Вывод:\n",
        "# 1\n",
        "# 2\n",
        "# 3\n",
        "# 4\n",
        "# 5\n",
        "```\n",
        "\n",
        "---"
      ],
      "metadata": {
        "id": "zDtiD8Rl9Oqu"
      }
    },
    {
      "cell_type": "code",
      "source": [
        "# Ваш код"
      ],
      "metadata": {
        "id": "Yotj0YMK-Avy"
      },
      "execution_count": null,
      "outputs": []
    },
    {
      "cell_type": "markdown",
      "source": [
        "---\n",
        "\n",
        "### **Пункт №3. Генератор комбинированных списков**\n",
        "\n",
        "Создайте генератор `combined_lists(lst1, lst2)`, который попеременно возвращает элементы из `lst1` и `lst2`. Если длины списков неравны, генератор должен остановиться при исчерпании более короткого списка.\n",
        "\n",
        "```python\n",
        "# Пример использования:\n",
        "for item in combined_lists([1, 2, 3], ['a', 'b', 'c', 'd']):\n",
        "    print(item)\n",
        "# Вывод:\n",
        "# 1\n",
        "# 'a'\n",
        "# 2\n",
        "# 'b'\n",
        "# 3\n",
        "# 'c'\n",
        "```"
      ],
      "metadata": {
        "id": "rJQEC1n19KHE"
      }
    },
    {
      "cell_type": "markdown",
      "source": [
        "---"
      ],
      "metadata": {
        "id": "1h8fsmju-LQh"
      }
    },
    {
      "cell_type": "code",
      "source": [
        "# Ваш код"
      ],
      "metadata": {
        "id": "_kcrlmgU-Bmz"
      },
      "execution_count": null,
      "outputs": []
    },
    {
      "cell_type": "markdown",
      "source": [
        "---\n",
        "\n",
        "### **Пункт №4. Генератор перевернутой строки**\n",
        "\n",
        "Напишите генератор `reverse_string(s)`, который при каждом вызове возвращает следующий символ строки `s` в обратном порядке.\n",
        "\n",
        "```python\n",
        "# Пример использования:\n",
        "for char in reverse_string('hello'):\n",
        "    print(char)\n",
        "# Вывод:\n",
        "# o\n",
        "# l\n",
        "# l\n",
        "# e\n",
        "# h\n",
        "```"
      ],
      "metadata": {
        "id": "CEXaNzJX9B1D"
      }
    },
    {
      "cell_type": "markdown",
      "source": [
        "---"
      ],
      "metadata": {
        "id": "L9WQ5Jpq-JaO"
      }
    },
    {
      "cell_type": "code",
      "source": [
        "# Ваш код"
      ],
      "metadata": {
        "id": "5w9xT0eR-CBf"
      },
      "execution_count": null,
      "outputs": []
    },
    {
      "cell_type": "markdown",
      "source": [
        "---\n",
        "\n",
        "### **Пункт №5. Генератор степеней двойки**\n",
        "\n",
        "Создайте генератор `powers_of_two(n)`, который возвращает степени двойки от 2^0 до 2^n.\n",
        "\n",
        "```python\n",
        "# Пример использования:\n",
        "for num in powers_of_two(5):\n",
        "    print(num)\n",
        "# Вывод:\n",
        "# 1  # 2^0\n",
        "# 2  # 2^1\n",
        "# 4  # 2^2\n",
        "# 8  # 2^3\n",
        "# 16 # 2^4\n",
        "# 32 # 2^5\n",
        "```\n",
        "\n",
        "---"
      ],
      "metadata": {
        "id": "GNykcs8D8-Je"
      }
    },
    {
      "cell_type": "code",
      "source": [
        "# Ваш код"
      ],
      "metadata": {
        "id": "LjNW3m-y-CXj"
      },
      "execution_count": null,
      "outputs": []
    },
    {
      "cell_type": "markdown",
      "source": [
        "---"
      ],
      "metadata": {
        "id": "OU71icWn-Ggg"
      }
    },
    {
      "cell_type": "markdown",
      "source": [
        "### **Пункт №6. Генератор чисел из строки**\n",
        "\n",
        "Напишите генератор `number_extractor(s)`, который извлекает числа из заданной строки `s` и возвращает их как целые числа.\n",
        "\n",
        "```python\n",
        "# Пример использования:\n",
        "for num in number_extractor('abc123def45gh6'):\n",
        "    print(num)\n",
        "# Вывод:\n",
        "# 123\n",
        "# 45\n",
        "# 6\n",
        "```"
      ],
      "metadata": {
        "id": "w5gcNZCM829V"
      }
    },
    {
      "cell_type": "markdown",
      "source": [
        "---"
      ],
      "metadata": {
        "id": "oJt2kxt8-FUP"
      }
    },
    {
      "cell_type": "code",
      "source": [
        "# Ваш код"
      ],
      "metadata": {
        "id": "zDYVvuBX-C9M"
      },
      "execution_count": null,
      "outputs": []
    },
    {
      "cell_type": "markdown",
      "source": [
        "---"
      ],
      "metadata": {
        "id": "h6ztzyUn-D5n"
      }
    }
  ]
}