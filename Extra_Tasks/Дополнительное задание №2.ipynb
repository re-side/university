{
  "nbformat": 4,
  "nbformat_minor": 0,
  "metadata": {
    "colab": {
      "provenance": [],
      "authorship_tag": "ABX9TyPHmaNVqZ8PreXvANRi7v3e",
      "include_colab_link": true
    },
    "kernelspec": {
      "name": "python3",
      "display_name": "Python 3"
    },
    "language_info": {
      "name": "python"
    }
  },
  "cells": [
    {
      "cell_type": "markdown",
      "metadata": {
        "id": "view-in-github",
        "colab_type": "text"
      },
      "source": [
        "<a href=\"https://colab.research.google.com/github/re-side/university/blob/main/Extra_Tasks/%D0%94%D0%BE%D0%BF%D0%BE%D0%BB%D0%BD%D0%B8%D1%82%D0%B5%D0%BB%D1%8C%D0%BD%D0%BE%D0%B5%20%D0%B7%D0%B0%D0%B4%D0%B0%D0%BD%D0%B8%D0%B5%20%E2%84%962.ipynb\" target=\"_parent\"><img src=\"https://colab.research.google.com/assets/colab-badge.svg\" alt=\"Open In Colab\"/></a>"
      ]
    },
    {
      "cell_type": "code",
      "execution_count": null,
      "metadata": {
        "id": "lRvIRhIg8DOp"
      },
      "outputs": [],
      "source": [
        "print('Выберите функцию:')\n",
        "print('1. Добавить контакт')\n",
        "print('2. Удалить контакт')\n",
        "print('3. Показать список контактов')\n",
        "print('4. Изменить номер')\n",
        "print('5. Выход')\n",
        "\n",
        "start = int(input(\"Введите номер функции: \"))\n",
        "\n",
        "if start > 5:\n",
        "  print('Такой функции нет!')\n",
        "\n",
        "contlist = []\n",
        "\n",
        "if start == 1:\n",
        "  name = input('Введите название для контакта: ')\n",
        "  numb = int(input('Введите номер телефона: '))\n",
        "  if 'name' and 'numb' in locals():\n",
        "    print('Контакт успешно добавлен!')\n",
        "  else:\n",
        "    print('Error')\n",
        "\n",
        "def standardize_phone_number(raw_number):\n",
        "  digits_only = ''.join(filter(str.isdigit, raw_number))\n",
        "  if len(digits_only) == 11:\n",
        "    if digits_only.startswith('8'):\n",
        "      digits_only = '7' + digits_only[1:]\n",
        "    standardized_number = '+' + digits_only\n",
        "    return standardized_number\n",
        "  else:\n",
        "    raise ValueError(\"Номер телефона должен содержать 11 цифр.\")\n",
        "raw_number = numb\n",
        "formatted_number = standardize_phone_number(raw_number)\n",
        "print(formatted_number)\n",
        "\n",
        "if numb[0] == '8':\n",
        "  numbnorm = numb\n",
        "  numbnorm[0] = 7\n",
        "  numbmorm = '+' + str(numbnorm)\n",
        "if numb[0] == '9':\n",
        "  numbnorm = '+7' + str(numb)\n",
        "if numb[0] != '+' and != 7 and:\n",
        "  numbnorm = '+79'\n",
        "\n",
        "cont = name + ' ' +\n",
        "if start == 2:\n",
        "  print('Нехочу')\n",
        "if start == 3:"
      ]
    }
  ]
}