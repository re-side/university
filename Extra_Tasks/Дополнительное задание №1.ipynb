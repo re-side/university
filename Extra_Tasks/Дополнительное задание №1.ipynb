{
  "nbformat": 4,
  "nbformat_minor": 0,
  "metadata": {
    "colab": {
      "provenance": [],
      "authorship_tag": "ABX9TyPqtRwrbFVBgxS7dZY6zV9j",
      "include_colab_link": true
    },
    "kernelspec": {
      "name": "python3",
      "display_name": "Python 3"
    },
    "language_info": {
      "name": "python"
    }
  },
  "cells": [
    {
      "cell_type": "markdown",
      "metadata": {
        "id": "view-in-github",
        "colab_type": "text"
      },
      "source": [
        "<a href=\"https://colab.research.google.com/github/re-side/university/blob/main/Extra_Tasks/%D0%94%D0%BE%D0%BF%D0%BE%D0%BB%D0%BD%D0%B8%D1%82%D0%B5%D0%BB%D1%8C%D0%BD%D0%BE%D0%B5%20%D0%B7%D0%B0%D0%B4%D0%B0%D0%BD%D0%B8%D0%B5%20%E2%84%961.ipynb\" target=\"_parent\"><img src=\"https://colab.research.google.com/assets/colab-badge.svg\" alt=\"Open In Colab\"/></a>"
      ]
    },
    {
      "cell_type": "code",
      "execution_count": 10,
      "metadata": {
        "colab": {
          "base_uri": "https://localhost:8080/"
        },
        "id": "Eykq0TAe2M13",
        "outputId": "6c65a393-fb2b-478f-f240-e6542ea9a2a7"
      },
      "outputs": [
        {
          "output_type": "stream",
          "name": "stdout",
          "text": [
            "Компьютер загадывает число от 0 до 100 (94)\n",
            "Введите \"Выход\", чтобы закончить игру\n",
            "Введите ваше число: 23\n",
            "Ваше число меньше загаданного!\n",
            "Введите ваше число: 78\n",
            "Ваше число меньше загаданного!\n",
            "Введите ваше число: 94\n",
            "Поздравляем! Вы угадали число за 3 попыток!\n"
          ]
        }
      ],
      "source": [
        "import random\n",
        "\n",
        "def ugadai():\n",
        "    numberzagadai = random.randint(0, 100)\n",
        "    attempts = 0\n",
        "\n",
        "    print(f\"Компьютер загадывает число от 0 до 100 ({numberzagadai})\")\n",
        "    print('Введите \"Выход\", чтобы закончить игру')\n",
        "\n",
        "    while True:\n",
        "        userinput = input(\"Введите ваше число: \")\n",
        "\n",
        "        if userinput.lower() == \"выход\":\n",
        "            print(\"Спасибо за игру!\")\n",
        "            break\n",
        "\n",
        "        try:\n",
        "            usernumber = int(userinput)\n",
        "        except ValueError:\n",
        "            print(\"Пожалуйста, введите корректное число.\")\n",
        "            continue\n",
        "\n",
        "        attempts += 1\n",
        "\n",
        "        if usernumber < numberzagadai:\n",
        "            print(\"Ваше число меньше загаданного!\")\n",
        "        elif usernumber > numberzagadai:\n",
        "            print(\"Ваше число больше загаданного!\")\n",
        "        else:\n",
        "            print(f\"Поздравляем! Вы угадали число за {attempts} попыток!\")\n",
        "            break\n",
        "\n",
        "if __name__ == \"__main__\":\n",
        "    ugadai()\n",
        "\n",
        "\n",
        "\n"
      ]
    }
  ]
}